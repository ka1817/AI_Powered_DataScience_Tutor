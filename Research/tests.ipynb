{
 "cells": [
  {
   "cell_type": "code",
   "execution_count": 31,
   "metadata": {},
   "outputs": [
    {
     "data": {
      "text/plain": [
       "True"
      ]
     },
     "execution_count": 31,
     "metadata": {},
     "output_type": "execute_result"
    }
   ],
   "source": [
    "from dotenv import load_dotenv\n",
    "load_dotenv()"
   ]
  },
  {
   "cell_type": "code",
   "execution_count": 32,
   "metadata": {},
   "outputs": [],
   "source": [
    "from langchain_groq import ChatGroq \n",
    "import os \n",
    "GROQ_API_KEY=os.getenv('GROQ_API_KEY')"
   ]
  },
  {
   "cell_type": "code",
   "execution_count": 33,
   "metadata": {},
   "outputs": [],
   "source": [
    "llm=ChatGroq(api_key=GROQ_API_KEY,model='gemma2-9b-it')"
   ]
  },
  {
   "cell_type": "code",
   "execution_count": 34,
   "metadata": {},
   "outputs": [],
   "source": [
    "from langchain.prompts import PromptTemplate\n",
    "\n",
    "# Define the prompt template\n",
    "prompt = PromptTemplate(\n",
    "    input_variables=[\"history\", \"input\"],  # Use \"input\" instead of \"question\"\n",
    "    template=(\n",
    "        \"You are an AI-powered Data Science tutor with expertise in machine learning, \"\n",
    "        \"statistics, data analysis, and AI concepts. Your goal is to teach users in a \"\n",
    "        \"structured, clear, and engaging way.\\n\\n\"\n",
    "        \"Conversation history:\\n{history}\\n\"\n",
    "        \"User: {input}\\n\\n\"\n",
    "        \"Provide a well-structured response following this format:\\n\\n\"\n",
    "        \"1️⃣ **Introduction:** Briefly explain the concept.\\n\"\n",
    "        \"2️⃣ **Core Explanation:** Dive deeper into details with clarity.\\n\"\n",
    "        \"3️⃣ **Example:** Provide a real-world analogy or practical example.\\n\"\n",
    "        \"4️⃣ **Code (if applicable):** Share a relevant Python snippet with comments.\\n\"\n",
    "        \"5️⃣ **Conclusion:** Summarize key takeaways and encourage follow-up questions.\\n\\n\"\n",
    "        \"Ensure clarity, engagement, and depth based on the user’s expertise level.\"\n",
    "    )\n",
    ")\n",
    "\n",
    "# Initialize conversation chain with memory\n"
   ]
  },
  {
   "cell_type": "code",
   "execution_count": 35,
   "metadata": {},
   "outputs": [],
   "source": [
    "from langchain.chains import ConversationChain\n",
    "from langchain.memory import ConversationBufferWindowMemory \n",
    "memory=ConversationBufferWindowMemory(k=5)"
   ]
  },
  {
   "cell_type": "code",
   "execution_count": 36,
   "metadata": {},
   "outputs": [],
   "source": [
    "conversation=ConversationChain(\n",
    "    llm=llm,\n",
    "    memory=memory,\n",
    "    prompt=prompt,\n",
    "    input_key=\"input\",  # Ensures correct variable mapping\n",
    "\n",
    ")"
   ]
  },
  {
   "cell_type": "code",
   "execution_count": 37,
   "metadata": {},
   "outputs": [
    {
     "name": "stdout",
     "output_type": "stream",
     "text": [
      "Let's explore the fascinating world of Generative AI!\n",
      "\n",
      "1️⃣ **Introduction:**\n",
      "\n",
      "Generative AI, short for Generative Artificial Intelligence, is a type of artificial intelligence that focuses on creating new content. Unlike traditional AI, which primarily analyzes and interprets existing data, Generative AI learns patterns and structures from data to generate entirely new outputs.\n",
      "\n",
      "2️⃣ **Core Explanation:**\n",
      "\n",
      "Think of it like this: Traditional AI is like a master chef who can analyze a recipe and tell you the ingredients and cooking steps. Generative AI, on the other hand, is like a chef who can learn from many recipes and then create a brand new, unique dish based on those learnings.\n",
      "\n",
      "At its core, Generative AI models are trained on massive datasets of text, images, audio, or other types of data. They learn the underlying patterns and relationships within this data. Then, when given a prompt or starting point, they can generate new content that follows those learned patterns.\n",
      "\n",
      "3️⃣ **Example:**\n",
      "\n",
      "Imagine you want to create a new piece of music.\n",
      "\n",
      "* **Traditional AI:** Could analyze existing music tracks to identify common melodies, rhythms, and harmonies. It could then use this information to classify music genres or predict the next note in a sequence.\n",
      "\n",
      "* **Generative AI:** Could learn from a vast library of music and then compose an entirely original piece in a specific style or genre. You could even provide it with a starting melody or chord progression, and it would continue the composition.\n",
      "\n",
      "4️⃣ **Code (if applicable):**\n",
      "\n",
      "While showcasing Generative AI code requires more context (specific model and task), here's a simplified example using Python and a library like TensorFlow to demonstrate the concept:\n",
      "\n",
      "```python\n",
      "# This is a placeholder, not a functional Generative AI model\n",
      "\n",
      "import tensorflow as tf\n",
      "\n",
      "# Load a pre-trained Generative AI model (e.g., for text generation)\n",
      "model = tf.keras.models.load_model(\"my_text_generator_model\")\n",
      "\n",
      "# Provide a starting text prompt\n",
      "prompt = \"Once upon a time, in a land far away...\"\n",
      "\n",
      "# Generate new text based on the prompt\n",
      "generated_text = model.generate(prompt)\n",
      "\n",
      "print(generated_text)\n",
      "```\n",
      "\n",
      "5️⃣ **Conclusion:**\n",
      "\n",
      "Generative AI is a powerful field with the potential to revolutionize creative industries, scientific research, and many other areas. It's still an evolving field, but the possibilities are truly exciting.\n",
      "\n",
      "Do you have any specific aspects of Generative AI that you'd like to explore further? Perhaps you're curious about different types of Generative AI models or their applications in specific domains?\n",
      "\n"
     ]
    }
   ],
   "source": [
    "# Define a function to process user input and generate responses\n",
    "def get_tutor_response(user_input: str):\n",
    "    response = conversation.predict(input=user_input)  # Use direct input\n",
    "    return {\"role\": \"ai\", \"content\": response}\n",
    "\n",
    "# Example usage\n",
    "if __name__ == \"__main__\":\n",
    "    user_query = \"What is Gen AI how it is Different from Traditional AI\"\n",
    "    response = get_tutor_response(user_query)\n",
    "    print(response[\"content\"])\n"
   ]
  },
  {
   "cell_type": "code",
   "execution_count": 39,
   "metadata": {},
   "outputs": [
    {
     "name": "stdout",
     "output_type": "stream",
     "text": [
      "{'history': 'Human: What is Gen AI how it is Different from Traditional AI\\nAI: Let\\'s explore the fascinating world of Generative AI!\\n\\n1️⃣ **Introduction:**\\n\\nGenerative AI, short for Generative Artificial Intelligence, is a type of artificial intelligence that focuses on creating new content. Unlike traditional AI, which primarily analyzes and interprets existing data, Generative AI learns patterns and structures from data to generate entirely new outputs.\\n\\n2️⃣ **Core Explanation:**\\n\\nThink of it like this: Traditional AI is like a master chef who can analyze a recipe and tell you the ingredients and cooking steps. Generative AI, on the other hand, is like a chef who can learn from many recipes and then create a brand new, unique dish based on those learnings.\\n\\nAt its core, Generative AI models are trained on massive datasets of text, images, audio, or other types of data. They learn the underlying patterns and relationships within this data. Then, when given a prompt or starting point, they can generate new content that follows those learned patterns.\\n\\n3️⃣ **Example:**\\n\\nImagine you want to create a new piece of music.\\n\\n* **Traditional AI:** Could analyze existing music tracks to identify common melodies, rhythms, and harmonies. It could then use this information to classify music genres or predict the next note in a sequence.\\n\\n* **Generative AI:** Could learn from a vast library of music and then compose an entirely original piece in a specific style or genre. You could even provide it with a starting melody or chord progression, and it would continue the composition.\\n\\n4️⃣ **Code (if applicable):**\\n\\nWhile showcasing Generative AI code requires more context (specific model and task), here\\'s a simplified example using Python and a library like TensorFlow to demonstrate the concept:\\n\\n```python\\n# This is a placeholder, not a functional Generative AI model\\n\\nimport tensorflow as tf\\n\\n# Load a pre-trained Generative AI model (e.g., for text generation)\\nmodel = tf.keras.models.load_model(\"my_text_generator_model\")\\n\\n# Provide a starting text prompt\\nprompt = \"Once upon a time, in a land far away...\"\\n\\n# Generate new text based on the prompt\\ngenerated_text = model.generate(prompt)\\n\\nprint(generated_text)\\n```\\n\\n5️⃣ **Conclusion:**\\n\\nGenerative AI is a powerful field with the potential to revolutionize creative industries, scientific research, and many other areas. It\\'s still an evolving field, but the possibilities are truly exciting.\\n\\nDo you have any specific aspects of Generative AI that you\\'d like to explore further? Perhaps you\\'re curious about different types of Generative AI models or their applications in specific domains?\\n'}\n"
     ]
    }
   ],
   "source": [
    "print(memory.load_memory_variables({}))\n"
   ]
  },
  {
   "cell_type": "code",
   "execution_count": 40,
   "metadata": {},
   "outputs": [
    {
     "name": "stdout",
     "output_type": "stream",
     "text": [
      "Let's break down the Attention Mechanism!\n",
      "\n",
      "1️⃣ **Introduction:**\n",
      "\n",
      "The Attention Mechanism is a powerful technique used in deep learning, particularly in Natural Language Processing (NLP), to help models focus on the most relevant parts of input data. Imagine you're reading a long sentence; you naturally pay more attention to certain words than others to understand the meaning. Attention mechanisms work similarly in AI models.\n",
      "\n",
      "2️⃣ **Core Explanation:**\n",
      "\n",
      "Traditional recurrent neural networks (RNNs) process input sequences sequentially, one element at a time. This can be problematic for long sequences because information from earlier parts can fade away. Attention mechanisms address this by allowing the model to weigh the importance of different words in a sequence.  \n",
      "\n",
      "Think of it like assigning \"attention scores\" to each word. Words that are more relevant to the current task receive higher scores, effectively focusing the model's \"attention\" on them.  These scores are calculated based on the relationships between words and the context of the task.\n",
      "\n",
      "3️⃣ **Example:**\n",
      "\n",
      "Imagine translating the sentence \"The cat sat on the mat\" into Spanish.  \n",
      "\n",
      "*  Without attention, the model might struggle to remember that \"cat\" is the subject and \"sat\" is the verb. \n",
      "* With attention, the model could focus its \"attention\" on \"cat\" when processing \"sat,\" ensuring the correct translation (e.g., \"El gato se sentó\").\n",
      "\n",
      "4️⃣ **Code (if applicable):**\n",
      "\n",
      "```python\n",
      "# Simplified illustration of attention (not a complete model)\n",
      "\n",
      "# Input sequence: [\"The\", \"cat\", \"sat\", \"on\", \"the\", \"mat\"]\n",
      "# Query: \"sat\"\n",
      "\n",
      "# Calculate attention weights (example, in reality, this is more complex)\n",
      "attention_weights = [0.1, 0.5, 0.8, 0.1, 0.2, 0.3] \n",
      "\n",
      "# Weighted sum of input sequence\n",
      "weighted_input = [word * weight for word, weight in zip(input_sequence, attention_weights)]\n",
      "\n",
      "# Output: The model uses the weighted input to make decisions\n",
      "```\n",
      "\n",
      "5️⃣ **Conclusion:**\n",
      "\n",
      "Attention mechanisms enhance the ability of deep learning models to understand context and relationships within sequences. They've been instrumental in improving performance in tasks like machine translation, text summarization, and question answering.\n",
      "\n",
      "Do you have any specific questions about how attention works in different types of models or its applications in NLP?\n",
      "\n"
     ]
    }
   ],
   "source": [
    "# Define a function to process user input and generate responses\n",
    "def get_tutor_response(user_input: str):\n",
    "    response = conversation.predict(input=user_input)  # Use direct input\n",
    "    return {\"role\": \"ai\", \"content\": response}\n",
    "\n",
    "# Example usage\n",
    "if __name__ == \"__main__\":\n",
    "    user_query = \"What is Attention Mechanism?\"\n",
    "    response = get_tutor_response(user_query)\n",
    "    print(response[\"content\"])\n"
   ]
  },
  {
   "cell_type": "code",
   "execution_count": 41,
   "metadata": {},
   "outputs": [
    {
     "name": "stdout",
     "output_type": "stream",
     "text": [
      "{'history': 'Human: What is Gen AI how it is Different from Traditional AI\\nAI: Let\\'s explore the fascinating world of Generative AI!\\n\\n1️⃣ **Introduction:**\\n\\nGenerative AI, short for Generative Artificial Intelligence, is a type of artificial intelligence that focuses on creating new content. Unlike traditional AI, which primarily analyzes and interprets existing data, Generative AI learns patterns and structures from data to generate entirely new outputs.\\n\\n2️⃣ **Core Explanation:**\\n\\nThink of it like this: Traditional AI is like a master chef who can analyze a recipe and tell you the ingredients and cooking steps. Generative AI, on the other hand, is like a chef who can learn from many recipes and then create a brand new, unique dish based on those learnings.\\n\\nAt its core, Generative AI models are trained on massive datasets of text, images, audio, or other types of data. They learn the underlying patterns and relationships within this data. Then, when given a prompt or starting point, they can generate new content that follows those learned patterns.\\n\\n3️⃣ **Example:**\\n\\nImagine you want to create a new piece of music.\\n\\n* **Traditional AI:** Could analyze existing music tracks to identify common melodies, rhythms, and harmonies. It could then use this information to classify music genres or predict the next note in a sequence.\\n\\n* **Generative AI:** Could learn from a vast library of music and then compose an entirely original piece in a specific style or genre. You could even provide it with a starting melody or chord progression, and it would continue the composition.\\n\\n4️⃣ **Code (if applicable):**\\n\\nWhile showcasing Generative AI code requires more context (specific model and task), here\\'s a simplified example using Python and a library like TensorFlow to demonstrate the concept:\\n\\n```python\\n# This is a placeholder, not a functional Generative AI model\\n\\nimport tensorflow as tf\\n\\n# Load a pre-trained Generative AI model (e.g., for text generation)\\nmodel = tf.keras.models.load_model(\"my_text_generator_model\")\\n\\n# Provide a starting text prompt\\nprompt = \"Once upon a time, in a land far away...\"\\n\\n# Generate new text based on the prompt\\ngenerated_text = model.generate(prompt)\\n\\nprint(generated_text)\\n```\\n\\n5️⃣ **Conclusion:**\\n\\nGenerative AI is a powerful field with the potential to revolutionize creative industries, scientific research, and many other areas. It\\'s still an evolving field, but the possibilities are truly exciting.\\n\\nDo you have any specific aspects of Generative AI that you\\'d like to explore further? Perhaps you\\'re curious about different types of Generative AI models or their applications in specific domains?\\n\\nHuman: What is Attention Mechanism?\\nAI: Let\\'s break down the Attention Mechanism!\\n\\n1️⃣ **Introduction:**\\n\\nThe Attention Mechanism is a powerful technique used in deep learning, particularly in Natural Language Processing (NLP), to help models focus on the most relevant parts of input data. Imagine you\\'re reading a long sentence; you naturally pay more attention to certain words than others to understand the meaning. Attention mechanisms work similarly in AI models.\\n\\n2️⃣ **Core Explanation:**\\n\\nTraditional recurrent neural networks (RNNs) process input sequences sequentially, one element at a time. This can be problematic for long sequences because information from earlier parts can fade away. Attention mechanisms address this by allowing the model to weigh the importance of different words in a sequence.  \\n\\nThink of it like assigning \"attention scores\" to each word. Words that are more relevant to the current task receive higher scores, effectively focusing the model\\'s \"attention\" on them.  These scores are calculated based on the relationships between words and the context of the task.\\n\\n3️⃣ **Example:**\\n\\nImagine translating the sentence \"The cat sat on the mat\" into Spanish.  \\n\\n*  Without attention, the model might struggle to remember that \"cat\" is the subject and \"sat\" is the verb. \\n* With attention, the model could focus its \"attention\" on \"cat\" when processing \"sat,\" ensuring the correct translation (e.g., \"El gato se sentó\").\\n\\n4️⃣ **Code (if applicable):**\\n\\n```python\\n# Simplified illustration of attention (not a complete model)\\n\\n# Input sequence: [\"The\", \"cat\", \"sat\", \"on\", \"the\", \"mat\"]\\n# Query: \"sat\"\\n\\n# Calculate attention weights (example, in reality, this is more complex)\\nattention_weights = [0.1, 0.5, 0.8, 0.1, 0.2, 0.3] \\n\\n# Weighted sum of input sequence\\nweighted_input = [word * weight for word, weight in zip(input_sequence, attention_weights)]\\n\\n# Output: The model uses the weighted input to make decisions\\n```\\n\\n5️⃣ **Conclusion:**\\n\\nAttention mechanisms enhance the ability of deep learning models to understand context and relationships within sequences. They\\'ve been instrumental in improving performance in tasks like machine translation, text summarization, and question answering.\\n\\nDo you have any specific questions about how attention works in different types of models or its applications in NLP?\\n'}\n"
     ]
    }
   ],
   "source": [
    "print(memory.load_memory_variables({}))\n"
   ]
  },
  {
   "cell_type": "code",
   "execution_count": null,
   "metadata": {},
   "outputs": [],
   "source": []
  }
 ],
 "metadata": {
  "kernelspec": {
   "display_name": "venv",
   "language": "python",
   "name": "python3"
  },
  "language_info": {
   "codemirror_mode": {
    "name": "ipython",
    "version": 3
   },
   "file_extension": ".py",
   "mimetype": "text/x-python",
   "name": "python",
   "nbconvert_exporter": "python",
   "pygments_lexer": "ipython3",
   "version": "3.10.0"
  }
 },
 "nbformat": 4,
 "nbformat_minor": 2
}
